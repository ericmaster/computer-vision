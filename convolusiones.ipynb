{
 "cells": [
  {
   "cell_type": "markdown",
   "id": "e37934d3",
   "metadata": {},
   "source": [
    "# Convoluciones\n",
    "\n",
    "En simples términos queremos llegar a:\n",
    "\n",
    "f(x) * g(x) = h(x)\n",
    "\n",
    "Una manera de combinar 2 funciones para generar una nueva función\n",
    "\n",
    "Tenemos 2 listas: a y b y queremos combinarlas\n",
    "\n",
    "a = [1,2,3,4]\n",
    "b = [5,6,7,8]\n",
    "\n",
    "Adicion (element-wise)\n",
    "a + b = [6,8,10,12]\n",
    "\n",
    "Multiplicacion (element-wise)\n",
    "a.b = [5,12,21,32]\n",
    "\n",
    "## Convolucion\n",
    "\n",
    "a*b = (f*g)(f) integral -inf x f(x) ,g(fx)dx\n",
    "\n",
    "### Convoluciones discretas\n",
    "\n",
    "### Probabilidad\n",
    "\n",
    "Lanzar 2 dados y conocer la probabilidad de cada una de las posibles sumas\n",
    "\n",
    "- 36 combianciones posibles (matriz de 6x6)"
   ]
  },
  {
   "cell_type": "code",
   "execution_count": 1,
   "id": "ac35b67a",
   "metadata": {},
   "outputs": [
    {
     "name": "stdout",
     "output_type": "stream",
     "text": [
      "6x6 Matrix showing sum of two dice:\n",
      "[[ 2  3  4  5  6  7]\n",
      " [ 3  4  5  6  7  8]\n",
      " [ 4  5  6  7  8  9]\n",
      " [ 5  6  7  8  9 10]\n",
      " [ 6  7  8  9 10 11]\n",
      " [ 7  8  9 10 11 12]]\n"
     ]
    }
   ],
   "source": [
    "import numpy as np\n",
    "\n",
    "# Create a 6x6 matrix with row and column indices from 1 to 6\n",
    "matrix = np.zeros((6, 6))\n",
    "\n",
    "for i in range(6):\n",
    "    for j in range(6):\n",
    "        matrix[i][j] = (i + 1) + (j + 1)  # Sum of dice values\n",
    "\n",
    "print(\"6x6 Matrix showing sum of two dice:\")\n",
    "print(matrix.astype(int))"
   ]
  },
  {
   "cell_type": "markdown",
   "id": "db40ddaa",
   "metadata": {},
   "source": [
    "Todas las sumas constantes son visibles en las diagonales\n",
    "\n",
    "* P(d1 + d2 = 2) = 1/36\n",
    "* P(d1 + d2 = 3) = 2/36"
   ]
  },
  {
   "cell_type": "markdown",
   "id": "45de0c88",
   "metadata": {},
   "source": [
    "Otra manera?\n",
    "Vamos a rotar la matriz de dados rojos\n",
    "\n",
    "Alineando de otra manera\n",
    "Los pares suman 2\n",
    "Los pares suman 3"
   ]
  },
  {
   "cell_type": "markdown",
   "id": "a65f0d4b",
   "metadata": {},
   "source": [
    "Por que estamos contando los pares que se alinean con la suma de los dados?\n",
    "\n",
    "Casos + / Total casos\n",
    "\n",
    "Asumiendo que la probabilidad es constante y para un dado es\n",
    "p = 1/6"
   ]
  },
  {
   "cell_type": "markdown",
   "id": "acc4b0a4",
   "metadata": {},
   "source": [
    "Que pasa si las caras de los dados no tienen igual probabilidad?\n",
    "\n",
    "P (d1 + d2 = 2) = P(d1) * P(d2)"
   ]
  },
  {
   "cell_type": "markdown",
   "id": "4b57cbc7",
   "metadata": {},
   "source": [
    "Convolucion de a y b\n",
    "\n",
    "a*b = Sum i,j ai . bi (i+j = n)"
   ]
  },
  {
   "cell_type": "code",
   "execution_count": 2,
   "id": "efe84ab2",
   "metadata": {},
   "outputs": [
    {
     "data": {
      "text/plain": [
       "array([ 4, 13, 28, 27, 18])"
      ]
     },
     "execution_count": 2,
     "metadata": {},
     "output_type": "execute_result"
    }
   ],
   "source": [
    "np.convolve((1,2,3),(4,5,6))"
   ]
  },
  {
   "cell_type": "code",
   "execution_count": null,
   "id": "c2951e2f",
   "metadata": {},
   "outputs": [],
   "source": []
  }
 ],
 "metadata": {
  "kernelspec": {
   "display_name": "Python 3",
   "language": "python",
   "name": "python3"
  },
  "language_info": {
   "codemirror_mode": {
    "name": "ipython",
    "version": 3
   },
   "file_extension": ".py",
   "mimetype": "text/x-python",
   "name": "python",
   "nbconvert_exporter": "python",
   "pygments_lexer": "ipython3",
   "version": "3.10.12"
  }
 },
 "nbformat": 4,
 "nbformat_minor": 5
}
